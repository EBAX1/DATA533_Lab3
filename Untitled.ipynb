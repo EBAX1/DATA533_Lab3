{
 "cells": [
  {
   "cell_type": "code",
   "execution_count": 14,
   "metadata": {},
   "outputs": [],
   "source": [
    "import unittest\n",
    "from graphsTrees.trees.tree import Tree"
   ]
  },
  {
   "cell_type": "code",
   "execution_count": 24,
   "metadata": {},
   "outputs": [],
   "source": [
    "class TestTree(unittest.TestCase):\n",
    "    \n",
    "    def test_create_node(self):\n",
    "        tree = Tree()\n",
    "        tree_root_node = tree.create_node(5)\n",
    "        tree_root_node.left=10\n",
    "        self.assertIsInstance(tree,Tree)\n",
    "        self.assertIsInstance(tree_root_node,Node)\n",
    "        self.assertEqual(tree_root_node.key,5)\n",
    "        self.assertEqual(tree_root_node.left,10)\n",
    "    \n",
    "    def test_insert(self):\n",
    "        tree = Tree()"
   ]
  },
  {
   "cell_type": "code",
   "execution_count": 25,
   "metadata": {},
   "outputs": [
    {
     "name": "stderr",
     "output_type": "stream",
     "text": [
      "test_create_node (__main__.TestNode) ... ok\n",
      "test_create_node (__main__.TestTree) ... ok\n",
      "test_insert (__main__.TestTree) ... ok\n",
      "\n",
      "----------------------------------------------------------------------\n",
      "Ran 3 tests in 0.002s\n",
      "\n",
      "OK\n"
     ]
    },
    {
     "data": {
      "text/plain": [
       "<unittest.main.TestProgram at 0x110cdae50>"
      ]
     },
     "execution_count": 25,
     "metadata": {},
     "output_type": "execute_result"
    }
   ],
   "source": [
    "unittest.main(argv=[''],verbosity=2,exit=False)"
   ]
  },
  {
   "cell_type": "code",
   "execution_count": null,
   "metadata": {},
   "outputs": [],
   "source": []
  }
 ],
 "metadata": {
  "kernelspec": {
   "display_name": "Python 3",
   "language": "python",
   "name": "python3"
  },
  "language_info": {
   "codemirror_mode": {
    "name": "ipython",
    "version": 3
   },
   "file_extension": ".py",
   "mimetype": "text/x-python",
   "name": "python",
   "nbconvert_exporter": "python",
   "pygments_lexer": "ipython3",
   "version": "3.8.3"
  }
 },
 "nbformat": 4,
 "nbformat_minor": 4
}
