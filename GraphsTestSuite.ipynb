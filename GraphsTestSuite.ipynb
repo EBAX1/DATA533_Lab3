{
 "cells": [
  {
   "cell_type": "code",
   "execution_count": 3,
   "metadata": {},
   "outputs": [],
   "source": [
    "import unittest\n",
    "from testGraph import TestGraph\n",
    "from testwtGraph import TestwtGraph"
   ]
  },
  {
   "cell_type": "code",
   "execution_count": 4,
   "metadata": {},
   "outputs": [
    {
     "name": "stderr",
     "output_type": "stream",
     "text": [
      "................"
     ]
    },
    {
     "name": "stdout",
     "output_type": "stream",
     "text": [
      "Set up class\n",
      "Set up\n",
      "Teardown\n",
      "Set up\n",
      "Teardown\n",
      "Set up\n",
      "Teardown\n",
      "Set up\n",
      "Teardown\n",
      "Set up\n",
      "Teardown\n",
      "Set up\n",
      "Teardown\n",
      "Set up\n",
      "Teardown\n",
      "Tear down class\n",
      "Set up class\n",
      "set up\n",
      "Teardown\n",
      "set up\n",
      "Teardown\n",
      "set up\n",
      "Teardown\n",
      "set up\n",
      "Teardown\n",
      "set up\n",
      "Teardown\n",
      "set up\n",
      "Teardown\n",
      "set up\n",
      "Teardown\n",
      "set up\n",
      "Teardown\n",
      "set up\n",
      "Teardown\n",
      "Tear down class\n",
      "<unittest.runner.TextTestResult run=16 errors=0 failures=0>\n"
     ]
    },
    {
     "name": "stderr",
     "output_type": "stream",
     "text": [
      "\n",
      "----------------------------------------------------------------------\n",
      "Ran 16 tests in 0.020s\n",
      "\n",
      "OK\n"
     ]
    }
   ],
   "source": [
    "def my_suite():\n",
    "    suite = unittest.TestSuite()\n",
    "    result = unittest.TestResult()\n",
    "    suite.addTest(unittest.makeSuite(TestGraph))\n",
    "    suite.addTest(unittest.makeSuite(TestwtGraph))\n",
    "    runner = unittest.TextTestRunner()\n",
    "    print(runner.run(suite))\n",
    "    \n",
    "my_suite()"
   ]
  }
 ],
 "metadata": {
  "kernelspec": {
   "display_name": "Python 3",
   "language": "python",
   "name": "python3"
  },
  "language_info": {
   "codemirror_mode": {
    "name": "ipython",
    "version": 3
   },
   "file_extension": ".py",
   "mimetype": "text/x-python",
   "name": "python",
   "nbconvert_exporter": "python",
   "pygments_lexer": "ipython3",
   "version": "3.8.5"
  }
 },
 "nbformat": 4,
 "nbformat_minor": 4
}
