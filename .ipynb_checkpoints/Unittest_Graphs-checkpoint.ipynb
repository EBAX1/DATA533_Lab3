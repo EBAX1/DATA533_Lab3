{
 "cells": [
  {
   "cell_type": "code",
   "execution_count": 1,
   "metadata": {},
   "outputs": [],
   "source": [
    "import numpy as np\n",
    "import pandas as pd\n",
    "import unittest\n",
    "\n",
    "from graphsTrees.graphs.graphs import Graph\n",
    "from graphsTrees.graphs.wtGraphs import wtGraph"
   ]
  },
  {
   "cell_type": "code",
   "execution_count": 7,
   "metadata": {},
   "outputs": [
    {
     "name": "stderr",
     "output_type": "stream",
     "text": [
      "test_DFS (__main__.TestGraph) ... ok\n",
      "test_addVertex (__main__.TestGraph) ... ok\n",
      "test_add_edge (__main__.TestGraph) ... ok\n",
      "test_adjMatrix (__main__.TestGraph) ... ok\n",
      "test_hasCycles (__main__.TestGraph) ... ok\n",
      "test_isConnected (__main__.TestGraph) ... ok\n",
      "test_rmEdge (__main__.TestGraph) ... "
     ]
    },
    {
     "name": "stdout",
     "output_type": "stream",
     "text": [
      "Visit 0 from None\n",
      "Visit 1 from 0\n",
      "Visit 2 from 1\n",
      "Visit 3 from 2\n",
      "Visit 4 from 3\n",
      "Visit 2 from None\n",
      "Visit 1 from 2\n",
      "Visit 0 from 1\n",
      "Visit 3 from 0\n",
      "Visit 4 from 3\n",
      "Visit 4 from None\n",
      "Visit 1 from 4\n",
      "Visit 0 from 1\n",
      "Visit 3 from 0\n",
      "Visit 2 from 3\n",
      "Visit 0 from None\n",
      "Visit 1 from 0\n",
      "Visit 2 from None\n",
      "Visit 0 from None\n",
      "Visit 1 from 0\n",
      "Visit 2 from 0\n",
      "Visit 3 from 0\n",
      "Visit 2 from None\n",
      "Visit 0 from 2\n",
      "Visit 1 from 0\n",
      "Visit 3 from 0\n",
      "Vertex 5 added\n"
     ]
    },
    {
     "name": "stderr",
     "output_type": "stream",
     "text": [
      "ok\n",
      "\n",
      "----------------------------------------------------------------------\n",
      "Ran 7 tests in 0.010s\n",
      "\n",
      "OK\n"
     ]
    }
   ],
   "source": [
    "class TestGraph(unittest.TestCase):\n",
    "    def setUp(self):\n",
    "        self.Gr1 = Graph(5, [[0,1],[1,2],[2,3],[3,4],[4,1],[0,3]]) #Connected with cycles\n",
    "        self.Gr2 = Graph(3, [[0,1], [2,2]]) # Disconnected with loop cycle\n",
    "        self.Gr3 = Graph(4, [[0,1], [0,2], [0,3]]) # Connected with no cycles\n",
    "        \n",
    "    def test_add_edge(self):\n",
    "        self.Gr2.addEdge(1,2)\n",
    "        self.Gr3.addEdge(3,2)\n",
    "        self.assertEqual(self.Gr2.edges, [[0,1], [2,2], [1,2]])\n",
    "        self.assertEqual(self.Gr3.edges, [[0,1], [0,2], [0,3], [3,2]])\n",
    "        \n",
    "    def test_rmEdge(self):\n",
    "        self.Gr1.rmEdge(0,1)\n",
    "        self.Gr1.rmEdge(2,3)\n",
    "        self.Gr3.rmEdge(0,3)\n",
    "        self.assertEqual(self.Gr1.edges, [[1,2], [3,4], [4,1],[0,3]])\n",
    "        self.assertEqual(self.Gr3.edges, [[0,1],[0,2]])\n",
    "        \n",
    "    def test_addVertex(self):\n",
    "        self.Gr1.addVertex()\n",
    "        np.testing.assert_array_equal(self.Gr1.vertices, np.arange(6))\n",
    "        \n",
    "    def test_adjMatrix(self):\n",
    "        np.testing.assert_array_equal(self.Gr2.adjMatrix(), np.array([[0.,1.,0],\n",
    "                                                                     [1.,0.,0.],\n",
    "                                                                     [0.,0.,1.]]))\n",
    "        \n",
    "        #I didn't actually realize the matrix was like this when I was building the graph\n",
    "        np.testing.assert_array_equal(self.Gr1.adjMatrix(), np.array([[0.,1.,0.,1.,0.],\n",
    "                                                                     [1.,0.,1.,0.,1.],\n",
    "                                                                     [0.,1.,0.,1.,0.],\n",
    "                                                                     [1.,0.,1.,0.,1.],\n",
    "                                                                     [0.,1.,0.,1.,0.]]))\n",
    "        \n",
    "   #I had to edit my DFS algorithm to have an output for this to work.\n",
    "   #Previously it printed the steps and returned None \n",
    "    def test_DFS(self):\n",
    "        self.assertEqual(self.Gr1.DFS(0), [0,1,2,3,4])\n",
    "        self.assertEqual(self.Gr1.DFS(2), [2,1,0,3,4])\n",
    "        self.assertEqual(self.Gr1.DFS(4), [4,1,0,3,2])\n",
    "        self.assertEqual(self.Gr2.DFS(0), [0,1])\n",
    "        self.assertEqual(self.Gr2.DFS(2), [2])\n",
    "        self.assertEqual(self.Gr3.DFS(0), [0,1,2,3])\n",
    "        self.assertEqual(self.Gr3.DFS(2), [2,0,1,3])\n",
    "        \n",
    "    def test_isConnected(self):\n",
    "        self.assertTrue(self.Gr1.isConnected())\n",
    "        self.assertTrue(self.Gr3.isConnected())\n",
    "        self.assertFalse(self.Gr2.isConnected())\n",
    "        \n",
    "    def test_hasCycles(self):\n",
    "        self.assertTrue(self.Gr1.hasCycles())\n",
    "        self.assertTrue(self.Gr2.hasCycles())\n",
    "        self.assertFalse(self.Gr3.hasCycles())\n",
    "        \n",
    "    def tearDown(self):\n",
    "        print('Teardown')\n",
    "        \n",
    "    unittest.main(argv=[''], verbosity= 2, exit=False)"
   ]
  },
  {
   "cell_type": "code",
   "execution_count": 3,
   "metadata": {},
   "outputs": [
    {
     "name": "stdout",
     "output_type": "stream",
     "text": [
      "Visit 4 from None\n",
      "Visit 1 from 4\n",
      "Visit 0 from 1\n",
      "Visit 3 from 0\n",
      "Visit 2 from 3\n"
     ]
    },
    {
     "data": {
      "text/plain": [
       "[4, 1, 0, 3, 2]"
      ]
     },
     "execution_count": 3,
     "metadata": {},
     "output_type": "execute_result"
    }
   ],
   "source": []
  }
 ],
 "metadata": {
  "kernelspec": {
   "display_name": "Python 3",
   "language": "python",
   "name": "python3"
  },
  "language_info": {
   "codemirror_mode": {
    "name": "ipython",
    "version": 3
   },
   "file_extension": ".py",
   "mimetype": "text/x-python",
   "name": "python",
   "nbconvert_exporter": "python",
   "pygments_lexer": "ipython3",
   "version": "3.8.5"
  }
 },
 "nbformat": 4,
 "nbformat_minor": 4
}
