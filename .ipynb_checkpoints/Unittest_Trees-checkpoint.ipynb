{
 "cells": [
  {
   "cell_type": "code",
   "execution_count": 11,
   "metadata": {},
   "outputs": [],
   "source": [
    "import unittest\n",
    "\n",
    "from graphsTrees.trees.node import Node\n",
    "from graphsTrees.trees.tree import Tree\n",
    "from graphsTrees.trees.bst import BST"
   ]
  },
  {
   "cell_type": "code",
   "execution_count": 14,
   "metadata": {},
   "outputs": [
    {
     "ename": "SyntaxError",
     "evalue": "invalid syntax (<ipython-input-14-d62d4852a750>, line 22)",
     "output_type": "error",
     "traceback": [
      "\u001b[0;36m  File \u001b[0;32m\"<ipython-input-14-d62d4852a750>\"\u001b[0;36m, line \u001b[0;32m22\u001b[0m\n\u001b[0;31m    t1_root_node.left = 11\u001b[0m\n\u001b[0m    ^\u001b[0m\n\u001b[0;31mSyntaxError\u001b[0m\u001b[0;31m:\u001b[0m invalid syntax\n"
     ]
    }
   ],
   "source": [
    "class TestTree (unittest.TestCase):\n",
    "    \n",
    "    @classmethod\n",
    "    def setUpClass(cls):\n",
    "        print('Set Up Class')\n",
    "    \n",
    "    @classmethod \n",
    "    def tearDownClass(cls):\n",
    "        print('Tear Down Class')\n",
    "    \n",
    "    def setUp(self):\n",
    "        print('Set Up')\n",
    "        self.t1 = Tree()\n",
    "        self.t2 = Tree()\n",
    "        \n",
    "    def tearDown(self):\n",
    "        print('Teardown')\n",
    "    \n",
    "    def test_create_node(self):\n",
    "        t1_root_node = self.t1.create_node(5)\n",
    "        t1_root_node.left = 11\n",
    "        \n",
    "        self.assertIsInstance(self.t1,Tree)\n",
    "        self.assertIsInstance(t1_root_node,Node)\n",
    "        self.assertIsInstance(t1_root_node.key,5)\n",
    "        self.assertIsInstance(t1_root_node.left,11)\n",
    "    \n",
    "    def test_insert(self):\n",
    "        self.t1.insert()\n",
    "        \n"
   ]
  },
  {
   "cell_type": "code",
   "execution_count": 13,
   "metadata": {},
   "outputs": [
    {
     "name": "stderr",
     "output_type": "stream",
     "text": [
      "test_create_node (__main__.TestTree) ... "
     ]
    },
    {
     "name": "stdout",
     "output_type": "stream",
     "text": [
      "Set Up Class\n",
      "Set Up\n",
      "Teardown\n",
      "Tear Down Class\n"
     ]
    },
    {
     "name": "stderr",
     "output_type": "stream",
     "text": [
      "ok\n",
      "\n",
      "----------------------------------------------------------------------\n",
      "Ran 1 test in 0.001s\n",
      "\n",
      "OK\n"
     ]
    },
    {
     "data": {
      "text/plain": [
       "<unittest.main.TestProgram at 0x113909ca0>"
      ]
     },
     "execution_count": 13,
     "metadata": {},
     "output_type": "execute_result"
    }
   ],
   "source": [
    "unittest.main(argv=[''],verbosity=2,exit=False)"
   ]
  },
  {
   "cell_type": "code",
   "execution_count": null,
   "metadata": {},
   "outputs": [],
   "source": []
  }
 ],
 "metadata": {
  "kernelspec": {
   "display_name": "Python 3",
   "language": "python",
   "name": "python3"
  },
  "language_info": {
   "codemirror_mode": {
    "name": "ipython",
    "version": 3
   },
   "file_extension": ".py",
   "mimetype": "text/x-python",
   "name": "python",
   "nbconvert_exporter": "python",
   "pygments_lexer": "ipython3",
   "version": "3.8.3"
  }
 },
 "nbformat": 4,
 "nbformat_minor": 4
}
