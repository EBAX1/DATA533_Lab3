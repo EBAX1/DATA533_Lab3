{
 "cells": [
  {
   "cell_type": "code",
   "execution_count": 1,
   "metadata": {},
   "outputs": [],
   "source": [
    "from tree import *"
   ]
  },
  {
   "cell_type": "code",
   "execution_count": 2,
   "metadata": {},
   "outputs": [],
   "source": [
    "class BinaryNode(Node):\n",
    "    \n",
    "    \n",
    "class BST(Tree):\n",
    "    \n",
    "    def create_node(self,key):\n",
    "        return BinaryNode(key)\n",
    "    \n",
    "    def insert(self, node, key):\n",
    "        if node is None:\n",
    "            return self.create_node(key)\n",
    "        if key < node.key:\n",
    "            node.left = self.insert(node.left, key)\n",
    "        elif key > node.key:\n",
    "            node.right = self.insert(node.right, key)\n",
    "        return node\n",
    "    \n",
    "    def search_node(self,node,key):\n",
    "        if node is None:\n",
    "            return \"This node does not exist\"\n",
    "        if node.key == key:\n",
    "            return \"Node {} exists\".format(key)\n",
    "        if node.key<key:\n",
    "            return self.search_node(node.right,key)\n",
    "        else:\n",
    "            return self.search_node(node.left,key)\n",
    "    \n",
    "    def delete_node(self,node,key):\n",
    "        if key < node.key:\n",
    "            node.left = self.delete_node(node.left,key)\n",
    "        elif key>node.key:\n",
    "            node.right = self.delete_node(node.right,key)\n",
    "        else:\n",
    "            if node.left is None and node.right is None:\n",
    "                return None\n",
    "            elif node.left is None:\n",
    "                swap = node.right\n",
    "                del node\n",
    "                return swap \n",
    "            elif node.right is None:\n",
    "                swap = node.left\n",
    "                del node\n",
    "                return swap"
   ]
  },
  {
   "cell_type": "code",
   "execution_count": 3,
   "metadata": {},
   "outputs": [
    {
     "data": {
      "text/plain": [
       "<node.Node at 0x10d13a160>"
      ]
     },
     "execution_count": 3,
     "metadata": {},
     "output_type": "execute_result"
    }
   ],
   "source": [
    "root = None\n",
    "bst = BST()\n",
    "root = bst.insert(root,10)\n",
    "bst.insert(root, 20)\n",
    "bst.insert(root, 30)\n",
    "bst.insert(root, 40)\n",
    "bst.insert(root, 6)"
   ]
  },
  {
   "cell_type": "code",
   "execution_count": 4,
   "metadata": {},
   "outputs": [
    {
     "name": "stdout",
     "output_type": "stream",
     "text": [
      "10\n"
     ]
    }
   ],
   "source": [
    "bst.postorder(root)"
   ]
  },
  {
   "cell_type": "code",
   "execution_count": 2,
   "metadata": {},
   "outputs": [
    {
     "data": {
      "text/plain": [
       "<node.Node at 0x10d68bb50>"
      ]
     },
     "execution_count": 2,
     "metadata": {},
     "output_type": "execute_result"
    }
   ],
   "source": [
    "tree = Tree()\n",
    "root = None\n",
    "root = tree.insert(root,10)\n",
    "tree.insert(root,11)\n",
    "tree.insert(root,12)\n",
    "tree.insert(root,5)"
   ]
  },
  {
   "cell_type": "code",
   "execution_count": 3,
   "metadata": {},
   "outputs": [
    {
     "name": "stdout",
     "output_type": "stream",
     "text": [
      "5\n",
      "12\n",
      "11\n",
      "10\n"
     ]
    }
   ],
   "source": [
    "tree.postorder(root)"
   ]
  },
  {
   "cell_type": "code",
   "execution_count": null,
   "metadata": {},
   "outputs": [],
   "source": []
  }
 ],
 "metadata": {
  "kernelspec": {
   "display_name": "Python 3",
   "language": "python",
   "name": "python3"
  },
  "language_info": {
   "codemirror_mode": {
    "name": "ipython",
    "version": 3
   },
   "file_extension": ".py",
   "mimetype": "text/x-python",
   "name": "python",
   "nbconvert_exporter": "python",
   "pygments_lexer": "ipython3",
   "version": "3.8.3"
  }
 },
 "nbformat": 4,
 "nbformat_minor": 4
}
