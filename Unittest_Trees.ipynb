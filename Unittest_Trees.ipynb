{
 "cells": [
  {
   "cell_type": "code",
   "execution_count": 11,
   "metadata": {},
   "outputs": [],
   "source": [
    "import unittest\n",
    "\n",
    "from graphsTrees.trees.node import Node\n",
    "from graphsTrees.trees.tree import Tree\n",
    "from graphsTrees.trees.bst import BST"
   ]
  },
  {
   "cell_type": "code",
   "execution_count": 42,
   "metadata": {},
   "outputs": [],
   "source": [
    "class TestTree (unittest.TestCase):\n",
    "    \n",
    "    @classmethod\n",
    "    def setUpClass(cls):\n",
    "        print('Set Up Class')\n",
    "    \n",
    "    @classmethod \n",
    "    def tearDownClass(cls):\n",
    "        print('Tear Down Class')\n",
    "    \n",
    "    def setUp(self):\n",
    "        print('Set Up')\n",
    "        self.t1 = Tree()\n",
    "        self.t2 = Tree()\n",
    "        \n",
    "    def tearDown(self):\n",
    "        print('Teardown')\n",
    "    \n",
    "    def test_create_node(self):\n",
    "        t1_root_node = self.t1.create_node(5)\n",
    "        t1_root_node.left = 11\n",
    "        \n",
    "        self.assertIsInstance(self.t1,Tree)\n",
    "        self.assertIsInstance(t1_root_node,Node)\n",
    "        self.assertEqual(t1_root_node.key,5)\n",
    "        self.assertEqual(t1_root_node.left,11)\n",
    "    \n",
    "    def test_insert(self):\n",
    "        t2_root_node = self.t2.create_node(10)\n",
    "        self.t2.insert(t2_root_node,23)\n",
    "        self.t2.insert(t2_root_node,0)\n",
    "        \n",
    "        self.assertIsInstance(self.t2,Tree)\n",
    "        self.assertIsInstance(t2_root_node,Node)\n",
    "        self.assertEqual(t2_root_node.left.key,23)\n",
    "        self.assertEqual(t2_root_node.left.left.key,0)"
   ]
  },
  {
   "cell_type": "code",
   "execution_count": 43,
   "metadata": {},
   "outputs": [
    {
     "name": "stderr",
     "output_type": "stream",
     "text": [
      "test_create_node (__main__.TestTree) ... ok\n",
      "test_insert (__main__.TestTree) ... "
     ]
    },
    {
     "name": "stdout",
     "output_type": "stream",
     "text": [
      "Set Up Class\n",
      "Set Up\n",
      "Teardown\n",
      "Set Up\n",
      "Teardown\n",
      "Tear Down Class\n"
     ]
    },
    {
     "name": "stderr",
     "output_type": "stream",
     "text": [
      "ok\n",
      "\n",
      "----------------------------------------------------------------------\n",
      "Ran 2 tests in 0.001s\n",
      "\n",
      "OK\n"
     ]
    },
    {
     "data": {
      "text/plain": [
       "<unittest.main.TestProgram at 0x11432f4f0>"
      ]
     },
     "execution_count": 43,
     "metadata": {},
     "output_type": "execute_result"
    }
   ],
   "source": [
    "unittest.main(argv=[''],verbosity=2,exit=False)"
   ]
  },
  {
   "cell_type": "code",
   "execution_count": 38,
   "metadata": {},
   "outputs": [
    {
     "data": {
      "text/plain": [
       "<graphsTrees.trees.node.Node at 0x11431ba90>"
      ]
     },
     "execution_count": 38,
     "metadata": {},
     "output_type": "execute_result"
    }
   ],
   "source": [
    "t2 = Tree()\n",
    "\n",
    "t2_root_node = t2.create_node(10)\n",
    "t2.insert(t2_root_node,23)\n",
    "t2.insert(t2_root_node,0)"
   ]
  },
  {
   "cell_type": "code",
   "execution_count": 40,
   "metadata": {},
   "outputs": [
    {
     "data": {
      "text/plain": [
       "0"
      ]
     },
     "execution_count": 40,
     "metadata": {},
     "output_type": "execute_result"
    }
   ],
   "source": [
    "t2_root_node.left.left.key"
   ]
  },
  {
   "cell_type": "code",
   "execution_count": 41,
   "metadata": {},
   "outputs": [
    {
     "data": {
      "text/plain": [
       "0"
      ]
     },
     "execution_count": 41,
     "metadata": {},
     "output_type": "execute_result"
    }
   ],
   "source": [
    "t2_root_node.left.left.key"
   ]
  },
  {
   "cell_type": "code",
   "execution_count": null,
   "metadata": {},
   "outputs": [],
   "source": []
  }
 ],
 "metadata": {
  "kernelspec": {
   "display_name": "Python 3",
   "language": "python",
   "name": "python3"
  },
  "language_info": {
   "codemirror_mode": {
    "name": "ipython",
    "version": 3
   },
   "file_extension": ".py",
   "mimetype": "text/x-python",
   "name": "python",
   "nbconvert_exporter": "python",
   "pygments_lexer": "ipython3",
   "version": "3.8.3"
  }
 },
 "nbformat": 4,
 "nbformat_minor": 4
}
